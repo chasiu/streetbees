{
 "cells": [
  {
   "cell_type": "code",
   "execution_count": 7,
   "id": "turned-external",
   "metadata": {},
   "outputs": [],
   "source": [
    "import pandas as pd\n",
    "from sklearn import linear_model\n",
    "from sklearn.feature_extraction.text import CountVectorizer, TfidfVectorizer\n",
    "import numpy as np\n",
    "from sklearn.model_selection import train_test_split\n",
    "from sklearn.linear_model import RidgeClassifier\n",
    "import string\n",
    "from joblib import dump, load"
   ]
  },
  {
   "cell_type": "code",
   "execution_count": 2,
   "id": "thirty-observation",
   "metadata": {},
   "outputs": [],
   "source": [
    "df = pd.read_csv('../data/data.csv')"
   ]
  },
  {
   "cell_type": "code",
   "execution_count": 3,
   "id": "considerable-romania",
   "metadata": {},
   "outputs": [],
   "source": [
    "punc = string.punctuation\n",
    "df['Original Name'] = df['Name']\n",
    "df['Name'] = df['Name'].astype(str)\n",
    "df['Name'] = df['Name'].apply(lambda x: x.lower())\n",
    "df['Name'] = df['Name'].apply(lambda x: ''.join(s for s in x if s not in punc))"
   ]
  },
  {
   "cell_type": "code",
   "execution_count": 4,
   "id": "legal-hardware",
   "metadata": {},
   "outputs": [],
   "source": [
    "train, test = train_test_split(df, test_size=0.2)"
   ]
  },
  {
   "cell_type": "markdown",
   "id": "electoral-reservation",
   "metadata": {},
   "source": [
    "# Baseline Model\n",
    "- Idea is to do as little as possible to have a starting point from which to work from"
   ]
  },
  {
   "cell_type": "code",
   "execution_count": 5,
   "id": "possible-healthcare",
   "metadata": {},
   "outputs": [
    {
     "name": "stdout",
     "output_type": "stream",
     "text": [
      "Train acc: 0.9192991806919361\n",
      "Test acc: 0.7120665464020846\n",
      "CPU times: user 9min 50s, sys: 28min 21s, total: 38min 12s\n",
      "Wall time: 2min 28s\n"
     ]
    }
   ],
   "source": [
    "%%time\n",
    "vectorizer = CountVectorizer()\n",
    "X = vectorizer.fit_transform(np.array(train['Original Name']))\n",
    "y = train['Class']\n",
    "X_test = vectorizer.transform(np.array(test['Original Name']))\n",
    "y_test = test['Class']\n",
    "clf = RidgeClassifier().fit(X, y)\n",
    "# Train accuracy\n",
    "print('Train acc: {}'.format(clf.score(X, y)))\n",
    "# Test accuracy\n",
    "print('Test acc: {}'.format(clf.score(X_test, y_test)))"
   ]
  },
  {
   "cell_type": "code",
   "execution_count": 20,
   "id": "catholic-segment",
   "metadata": {},
   "outputs": [
    {
     "data": {
      "text/plain": [
       "['../models/vectorizer.joblib']"
      ]
     },
     "execution_count": 20,
     "metadata": {},
     "output_type": "execute_result"
    }
   ],
   "source": [
    "dump(clf, '../models/base_model.joblib')\n",
    "dump(vectorizer, \"../models/vectorizer.joblib\")"
   ]
  },
  {
   "cell_type": "markdown",
   "id": "guided-shareware",
   "metadata": {},
   "source": [
    "# Do the text changes help?"
   ]
  },
  {
   "cell_type": "code",
   "execution_count": 7,
   "id": "broad-scholar",
   "metadata": {},
   "outputs": [
    {
     "name": "stdout",
     "output_type": "stream",
     "text": [
      "Train acc: 0.9229504201316997\n",
      "Test acc: 0.7070919659614789\n",
      "CPU times: user 6min 8s, sys: 17min 51s, total: 24min\n",
      "Wall time: 1min 34s\n"
     ]
    }
   ],
   "source": [
    "%%time\n",
    "vectorizer = CountVectorizer(strip_accents='unicode')\n",
    "X = vectorizer.fit_transform(np.array(train['Name']))\n",
    "y = train['Class']\n",
    "X_test = vectorizer.transform(np.array(test['Name']))\n",
    "y_test = test['Class']\n",
    "clf = RidgeClassifier().fit(X, y)\n",
    "# Train accuracy\n",
    "print('Train acc: {}'.format(clf.score(X, y)))\n",
    "# Test accuracy\n",
    "print('Test acc: {}'.format(clf.score(X_test, y_test)))"
   ]
  },
  {
   "cell_type": "markdown",
   "id": "temporal-shannon",
   "metadata": {},
   "source": [
    "# TF-IDF\n",
    "- Does this make much of an impact on short texts"
   ]
  },
  {
   "cell_type": "code",
   "execution_count": 10,
   "id": "mounted-accounting",
   "metadata": {},
   "outputs": [
    {
     "name": "stdout",
     "output_type": "stream",
     "text": [
      "Train acc: 0.9220712071412139\n",
      "Test acc: 0.705433772481277\n",
      "CPU times: user 3min, sys: 8min 33s, total: 11min 33s\n",
      "Wall time: 49.4 s\n"
     ]
    }
   ],
   "source": [
    "%%time\n",
    "vectorizer = TfidfVectorizer()\n",
    "X = vectorizer.fit_transform(np.array(train['Name']))\n",
    "y = train['Class']\n",
    "X_test = vectorizer.transform(np.array(test['Name']))\n",
    "y_test = test['Class']\n",
    "clf = RidgeClassifier().fit(X, y)\n",
    "# Train accuracy\n",
    "print('Train acc: {}'.format(clf.score(X, y)))\n",
    "# Test accuracy\n",
    "print('Test acc: {}'.format(clf.score(X_test, y_test)))"
   ]
  },
  {
   "cell_type": "markdown",
   "id": "public-utility",
   "metadata": {},
   "source": [
    "# Use df freq to ignore more common words?"
   ]
  },
  {
   "cell_type": "code",
   "execution_count": 16,
   "id": "rental-favor",
   "metadata": {},
   "outputs": [
    {
     "name": "stdout",
     "output_type": "stream",
     "text": [
      "Train acc: 0.6503807265579267\n",
      "Test acc: 0.6314892764080978\n",
      "CPU times: user 12.2 s, sys: 318 ms, total: 12.5 s\n",
      "Wall time: 12.3 s\n"
     ]
    }
   ],
   "source": [
    "%%time\n",
    "vectorizer = TfidfVectorizer(max_features=10000)\n",
    "X = vectorizer.fit_transform(np.array(train['Name']))\n",
    "y = train['Class']\n",
    "X_test = vectorizer.transform(np.array(test['Name']))\n",
    "y_test = test['Class']\n",
    "clf = RidgeClassifier().fit(X, y)\n",
    "# Train accuracy\n",
    "print('Train acc: {}'.format(clf.score(X, y)))\n",
    "# Test accuracy\n",
    "print('Test acc: {}'.format(clf.score(X_test, y_test)))"
   ]
  },
  {
   "cell_type": "code",
   "execution_count": null,
   "id": "assumed-devon",
   "metadata": {},
   "outputs": [],
   "source": []
  }
 ],
 "metadata": {
  "kernelspec": {
   "display_name": "Python 3",
   "language": "python",
   "name": "python3"
  },
  "language_info": {
   "codemirror_mode": {
    "name": "ipython",
    "version": 3
   },
   "file_extension": ".py",
   "mimetype": "text/x-python",
   "name": "python",
   "nbconvert_exporter": "python",
   "pygments_lexer": "ipython3",
   "version": "3.8.5"
  }
 },
 "nbformat": 4,
 "nbformat_minor": 5
}
